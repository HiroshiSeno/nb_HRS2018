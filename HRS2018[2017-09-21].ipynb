{
 "cells": [
  {
   "cell_type": "markdown",
   "metadata": {},
   "source": [
    "# 動物標本を用いた局所冷却実験の解析\n",
    "### 解析するデータ\n",
    "- 2005-08-24-2\n",
    "- 2005-04-16-1\n",
    "- 2006-02-18\n",
    "- 2006-02-18-1\n",
    "- (2006-03-12-2)\n",
    "- (2006-02-17)"
   ]
  },
  {
   "cell_type": "code",
   "execution_count": 3,
   "metadata": {
    "collapsed": true
   },
   "outputs": [],
   "source": [
    "import numpy as np\n",
    "import matplotlib.pyplot as plt\n",
    "import os\n",
    "import subprocess\n",
    "%matplotlib inline"
   ]
  },
  {
   "cell_type": "code",
   "execution_count": 2,
   "metadata": {
    "collapsed": true
   },
   "outputs": [],
   "source": [
    "from opmap.RawCam import RawCam\n",
    "from opmap.VmemMap import VmemMap\n",
    "from opmap.PhaseMap import PhaseMap\n",
    "from opmap.PhaseVarianceMap import PhaseVarianceMap\n",
    "from opmap.util import makeMovie"
   ]
  },
  {
   "cell_type": "markdown",
   "metadata": {},
   "source": [
    "# 位相分散解析"
   ]
  },
  {
   "cell_type": "code",
   "execution_count": 6,
   "metadata": {
    "collapsed": true
   },
   "outputs": [],
   "source": [
    "directories = ['2005-08-24-2/C001S0008@', '2005-08-24-2/C001S0011@', '2005-04-16-1/C001S0001#',\n",
    "               '2005-04-16-1/C001S0002#', '2005-04-16-1/C001S0003#', '2005-04-16-1/C001S0004#',\n",
    "               '2005-04-16-1/C001S0007#', '2005-04-16-1/C001S0008#', '2005-04-16-1/C001S0025@',\n",
    "               '2006-02-18/C001S0006@', '2006-02-18-1/C001S0006@', '2006-02-18-1/C001S0009@',\n",
    "               '2006-02-18-1/C001S0011@', '2006-02-18-1/C001S0014@@', '2006-02-18-1/C001S0017@']"
   ]
  },
  {
   "cell_type": "code",
   "execution_count": null,
   "metadata": {},
   "outputs": [
    {
     "name": "stdout",
     "output_type": "stream",
     "text": [
      "2005-08-24-2/C001S0008@\n"
     ]
    }
   ],
   "source": [
    "data_parent = '/mnt/recordings/ExperimentData/'\n",
    "output_parent = '/mnt/recordings/AnalysisResult/Seno/opmap/HRS2018/20170922/'\n",
    "for directory in directories:\n",
    "    print(directory)\n",
    "    data_path = os.path.join(data_parent, directory)\n",
    "    cam = RawCam(path=data_path,\n",
    "             cam_type='sa4',\n",
    "             image_width=256, image_height=256,\n",
    "             frame_start=0, frame_end=-1)\n",
    "    vmem = VmemMap(cam)\n",
    "    pmap = PhaseMap(vmem, shrink=2)\n",
    "    pvmap = PhaseVarianceMap(pmap, size=3)\n",
    "    \n",
    "    cam.saveImage(os.path.join(output_parent, directory, 'cam'))\n",
    "    vmem.saveImage(os.path.join(output_parent, directory, 'vmem'))\n",
    "    pmap.saveImage(os.path.join(output_parent, directory, 'pmap'))\n",
    "    pvmap.saveImage(os.path.join(output_parent, directory, 'pvmap'))"
   ]
  },
  {
   "cell_type": "code",
   "execution_count": null,
   "metadata": {
    "collapsed": true
   },
   "outputs": [],
   "source": []
  }
 ],
 "metadata": {
  "kernelspec": {
   "display_name": "Python 2",
   "language": "python",
   "name": "python2"
  },
  "language_info": {
   "codemirror_mode": {
    "name": "ipython",
    "version": 2
   },
   "file_extension": ".py",
   "mimetype": "text/x-python",
   "name": "python",
   "nbconvert_exporter": "python",
   "pygments_lexer": "ipython2",
   "version": "2.7.13"
  }
 },
 "nbformat": 4,
 "nbformat_minor": 2
}
