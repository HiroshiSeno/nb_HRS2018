{
 "cells": [
  {
   "cell_type": "markdown",
   "metadata": {},
   "source": [
    "# 動物標本を用いた局所冷却実験の解析"
   ]
  },
  {
   "cell_type": "markdown",
   "metadata": {},
   "source": [
    "### 解析するデータ\n",
    "- 2005-04-16-1/S0025\n",
    "- 2005-08-24-2/S0011\n",
    "- 2006-02-18-1/S0009\n",
    "- 2006-02-18-1/S0011\n",
    "- 2006-02-18-1/S0017"
   ]
  },
  {
   "cell_type": "code",
   "execution_count": 2,
   "metadata": {
    "collapsed": true
   },
   "outputs": [],
   "source": [
    "import numpy as np\n",
    "import matplotlib.pyplot as plt\n",
    "import os\n",
    "import subprocess\n",
    "%matplotlib inline"
   ]
  },
  {
   "cell_type": "code",
   "execution_count": 3,
   "metadata": {
    "collapsed": true
   },
   "outputs": [],
   "source": [
    "from opmap.RawCam import RawCam\n",
    "from opmap.VmemMap import VmemMap\n",
    "from opmap.PhaseMap import PhaseMap\n",
    "from opmap.PhaseVarianceMap import PhaseVarianceMap"
   ]
  },
  {
   "cell_type": "markdown",
   "metadata": {
    "collapsed": true
   },
   "source": [
    "## 20170922の解析から動画作成"
   ]
  },
  {
   "cell_type": "code",
   "execution_count": 4,
   "metadata": {
    "collapsed": true
   },
   "outputs": [],
   "source": [
    "directories = ['2005-04-16-1/C001S0025@', '2005-08-24-2/C001S0011@', '2006-02-18-1/C001S0009@',\n",
    "               '2006-02-18-1/C001S0011@', '2006-02-18-1/C001S0017@']"
   ]
  },
  {
   "cell_type": "code",
   "execution_count": null,
   "metadata": {},
   "outputs": [
    {
     "name": "stdout",
     "output_type": "stream",
     "text": [
      "2005-04-16-1/C001S0025@\n",
      "2005-08-24-2/C001S0011@\n",
      "2006-02-18-1/C001S0009@\n",
      "2006-02-18-1/C001S0011@\n"
     ]
    }
   ],
   "source": [
    "data_parent = '/mnt/recordings/ExperimentData/'\n",
    "output_parent = '/mnt/recordings/AnalysisResult/Seno/opmap/HRS2018/20170924/'\n",
    "cmd = 'ffmpeg -r 15 -y -i \"{0}/%06d.png\" -c:v libx264 -pix_fmt yuv420p -qscale 0 \"{0}/movie.mp4\"'\n",
    "for directory in directories:\n",
    "    print(directory)\n",
    "    data_path = os.path.join(data_parent, directory)\n",
    "    cam = RawCam(path=data_path,\n",
    "             cam_type='sa4',\n",
    "             image_width=256, image_height=256,\n",
    "             frame_start=0, frame_end=-1)\n",
    "    cam.setIntROI(val_min=100)\n",
    "    vmem = VmemMap(cam)\n",
    "    vmem.smooth(size=3)\n",
    "    pmap = PhaseMap(vmem, shrink=2)\n",
    "    pvmap = PhaseVarianceMap(pmap, size=3)\n",
    "    \n",
    "    cam.saveImage(os.path.join(output_parent, directory, 'cam'))\n",
    "    subprocess.call(cmd.format(os.path.join(output_parent, directory, 'cam')), shell=True)\n",
    "    np.save(os.path.join(output_parent, directory, 'cam.npy'), cam.data)\n",
    "    vmem.saveImage(os.path.join(output_parent, directory, 'vmem'))\n",
    "    subprocess.call(cmd.format(os.path.join(output_parent, directory, 'vmem')), shell=True)\n",
    "    np.save(os.path.join(output_parent, directory, 'vmem.npy'), vmem.data)\n",
    "    pmap.saveImage(os.path.join(output_parent, directory, 'pmap'))\n",
    "    subprocess.call(cmd.format(os.path.join(output_parent, directory, 'pmap')), shell=True)\n",
    "    np.save(os.path.join(output_parent, directory, 'pmap.npy'), pmap.data)\n",
    "    pvmap.saveImage(os.path.join(output_parent, directory, 'pvmap'))\n",
    "    subprocess.call(cmd.format(os.path.join(output_parent, directory, 'pvmap')), shell=True)\n",
    "    np.save(os.path.join(output_parent, directory, 'pvmap.npy'), pvmap.data)"
   ]
  },
  {
   "cell_type": "markdown",
   "metadata": {},
   "source": [
    "# トシへのデータ作成"
   ]
  },
  {
   "cell_type": "code",
   "execution_count": 19,
   "metadata": {
    "collapsed": true
   },
   "outputs": [],
   "source": [
    "vmem_all = np.zeros((1000, 200, 400))"
   ]
  },
  {
   "cell_type": "code",
   "execution_count": 20,
   "metadata": {
    "collapsed": true
   },
   "outputs": [],
   "source": [
    "for i in range(1000):\n",
    "    vmem_all[i, :, :] = np.load('/mnt/recordings/SimulationResults/20170820-3/vmem_{0:04d}.npy'.format(i))"
   ]
  },
  {
   "cell_type": "code",
   "execution_count": 22,
   "metadata": {
    "collapsed": true
   },
   "outputs": [],
   "source": [
    "np.save('/mnt/recordings/AnalysisResult/Kobayashi/mahayan.npy', vmem_all)"
   ]
  }
 ],
 "metadata": {
  "kernelspec": {
   "display_name": "Python 2",
   "language": "python",
   "name": "python2"
  },
  "language_info": {
   "codemirror_mode": {
    "name": "ipython",
    "version": 2
   },
   "file_extension": ".py",
   "mimetype": "text/x-python",
   "name": "python",
   "nbconvert_exporter": "python",
   "pygments_lexer": "ipython2",
   "version": "2.7.13"
  }
 },
 "nbformat": 4,
 "nbformat_minor": 2
}
