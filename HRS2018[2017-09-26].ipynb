{
 "cells": [
  {
   "cell_type": "markdown",
   "metadata": {},
   "source": [
    "# 動物標本を用いた局所冷却実験の解析"
   ]
  },
  {
   "cell_type": "markdown",
   "metadata": {},
   "source": [
    "### 解析するデータ\n",
    "データは20170924にnumpyデータが入っている\n",
    "- 2005-04-16-1/S0025\n",
    "- 2005-08-24-2/S0011\n",
    "- 2006-02-18-1/S0011"
   ]
  },
  {
   "cell_type": "code",
   "execution_count": 20,
   "metadata": {
    "collapsed": true
   },
   "outputs": [],
   "source": [
    "import numpy as np\n",
    "import matplotlib.pyplot as plt\n",
    "import os\n",
    "import subprocess\n",
    "import cv2\n",
    "import copy\n",
    "%matplotlib inline"
   ]
  },
  {
   "cell_type": "code",
   "execution_count": 21,
   "metadata": {
    "collapsed": true
   },
   "outputs": [],
   "source": [
    "from opmap.RawCam import RawCam\n",
    "from opmap.VmemMap import VmemMap\n",
    "from opmap.PhaseMap import PhaseMap\n",
    "from opmap.PhaseVarianceMap import PhaseVarianceMap"
   ]
  },
  {
   "cell_type": "markdown",
   "metadata": {
    "collapsed": true
   },
   "source": [
    "## 20170925のデータを詳細に解析\n",
    "なぜか出力画像を読み込むと，赤色と青色が反転している・・・"
   ]
  },
  {
   "cell_type": "code",
   "execution_count": 69,
   "metadata": {},
   "outputs": [
    {
     "data": {
      "text/plain": [
       "<matplotlib.image.AxesImage at 0x7f0660209610>"
      ]
     },
     "execution_count": 69,
     "metadata": {},
     "output_type": "execute_result"
    },
    {
     "data": {
      "image/png": "[encoded data removed]",
      "text/plain": [
       "<matplotlib.figure.Figure at 0x7f0660341ed0>"
      ]
     },
     "metadata": {},
     "output_type": "display_data"
    }
   ],
   "source": [
    "temp = cv2.imread('/mnt/recordings/AnalysisResult/Seno/opmap/HRS2018/20170925/2005-04-16-1/C001S0025@/all/002170.png')\n",
    "pic = copy.deepcopy(temp)\n",
    "pic[:, :, 0] = temp[:, :, 2]\n",
    "pic[:, :, 2] = temp[:, :, 0]\n",
    "\n",
    "pic = pic[40:120, 20:100, :]\n",
    "cv2.putText(pic, \"{0:0>4}\".format(2170), (2,12), cv2.FONT_HERSHEY_PLAIN,.8,(0,0,0))\n",
    "#cv2.putText(pic, \"{0:0>4}\".format(1367), (2,10), cv2.FONT_HERSHEY_PLAIN,.5,(255,255,255))\n",
    "plt.imshow(pic)"
   ]
  },
  {
   "cell_type": "code",
   "execution_count": 105,
   "metadata": {},
   "outputs": [],
   "source": [
    "for i, time in enumerate(range(2160, 2232)):\n",
    "    temp = cv2.imread('/mnt/recordings/AnalysisResult/Seno/opmap/HRS2018/20170925/2005-04-16-1/C001S0025@/all/{0:06d}.png'.format(time))\n",
    "    pic = copy.deepcopy(temp)\n",
    "    #pic[:, :, 0] = temp[:, :, 2]\n",
    "    #pic[:, :, 2] = temp[:, :, 0]\n",
    "    \n",
    "    pic = pic[60:120, 20:80, :]\n",
    "    cv2.putText(pic, \"{0:0>4}\".format(time), (2,12), cv2.FONT_HERSHEY_PLAIN,.8,(0,0,0))\n",
    "    cv2.imwrite('/mnt/recordings/AnalysisResult/Seno/opmap/HRS2018/20170926/2005-04-16-1/C001S0025@/scene1/{0:0>6}.png'.format(i), pic)"
   ]
  },
  {
   "cell_type": "code",
   "execution_count": 106,
   "metadata": {
    "collapsed": true
   },
   "outputs": [],
   "source": [
    "cmd = 'ffmpeg -r 5 -y -i \"{0}/%06d.png\" -c:v libx264 -pix_fmt yuv420p -qscale 0 \"{0}/movie.mp4\"'.format('/mnt/recordings/AnalysisResult/Seno/opmap/HRS2018/20170926/2005-04-16-1/C001S0025@/scene1')"
   ]
  },
  {
   "cell_type": "code",
   "execution_count": 107,
   "metadata": {},
   "outputs": [
    {
     "data": {
      "text/plain": [
       "0"
      ]
     },
     "execution_count": 107,
     "metadata": {},
     "output_type": "execute_result"
    }
   ],
   "source": [
    "subprocess.call(cmd, shell=True)"
   ]
  },
  {
   "cell_type": "code",
   "execution_count": null,
   "metadata": {
    "collapsed": true
   },
   "outputs": [],
   "source": []
  }
 ],
 "metadata": {
  "kernelspec": {
   "display_name": "Python 2",
   "language": "python",
   "name": "python2"
  },
  "language_info": {
   "codemirror_mode": {
    "name": "ipython",
    "version": 2
   },
   "file_extension": ".py",
   "mimetype": "text/x-python",
   "name": "python",
   "nbconvert_exporter": "python",
   "pygments_lexer": "ipython2",
   "version": "2.7.13"
  }
 },
 "nbformat": 4,
 "nbformat_minor": 2
}
