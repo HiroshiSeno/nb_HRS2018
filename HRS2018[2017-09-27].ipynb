{
 "cells": [
  {
   "cell_type": "markdown",
   "metadata": {},
   "source": [
    "# 動物標本を用いた局所冷却実験の解析"
   ]
  },
  {
   "cell_type": "markdown",
   "metadata": {},
   "source": [
    "### 解析するデータ\n",
    "データは20170924にnumpyデータが入っている\n",
    "- 2005-04-16-1/S0025\n",
    "- 2005-08-24-2/S0011\n",
    "- 2006-02-18-1/S0011"
   ]
  },
  {
   "cell_type": "code",
   "execution_count": 3,
   "metadata": {
    "collapsed": true
   },
   "outputs": [],
   "source": [
    "import numpy as np\n",
    "import matplotlib.pyplot as plt\n",
    "import os\n",
    "import subprocess\n",
    "import cv2\n",
    "import copy\n",
    "%matplotlib inline"
   ]
  },
  {
   "cell_type": "code",
   "execution_count": 4,
   "metadata": {
    "collapsed": true
   },
   "outputs": [],
   "source": [
    "from opmap.RawCam import RawCam\n",
    "from opmap.VmemMap import VmemMap\n",
    "from opmap.PhaseMap import PhaseMap\n",
    "from opmap.PhaseVarianceMap import PhaseVarianceMap"
   ]
  },
  {
   "cell_type": "markdown",
   "metadata": {
    "collapsed": true
   },
   "source": [
    "## 20170925のデータを詳細に解析\n",
    "なぜか出力画像を読み込むと，赤色と青色が反転している・・・"
   ]
  },
  {
   "cell_type": "markdown",
   "metadata": {},
   "source": [
    "### 1枚だけ処理して確認"
   ]
  },
  {
   "cell_type": "code",
   "execution_count": 23,
   "metadata": {},
   "outputs": [
    {
     "data": {
      "text/plain": [
       "<matplotlib.image.AxesImage at 0x7f8724210110>"
      ]
     },
     "execution_count": 23,
     "metadata": {},
     "output_type": "execute_result"
    },
    {
     "data": {
      "image/png": "[encoded data removed]",
      "text/plain": [
       "<matplotlib.figure.Figure at 0x7f87247f3810>"
      ]
     },
     "metadata": {},
     "output_type": "display_data"
    }
   ],
   "source": [
    "temp = cv2.imread('/mnt/recordings/AnalysisResult/Seno/opmap/HRS2018/20170925/2005-04-16-1/C001S0025@/all/002170.png')\n",
    "pic = copy.deepcopy(temp)\n",
    "pic[:, :, 0] = temp[:, :, 2]\n",
    "pic[:, :, 2] = temp[:, :, 0]\n",
    "\n",
    "center_x = 69\n",
    "center_y = 73\n",
    "\n",
    "for i in range(128):\n",
    "    for j in range(128):\n",
    "        if (i-center_x)*(i-center_x)+(j-center_y)*(j-center_y) > 1600:\n",
    "            pic[j, i, :] = 0\n",
    "            \n",
    "#cv2.putText(pic, \"{0:0>4}\".format(2170), (2,12), cv2.FONT_HERSHEY_PLAIN,.8,(0,0,0))\n",
    "#cv2.putText(pic, \"{0:0>4}\".format(1367), (2,10), cv2.FONT_HERSHEY_PLAIN,.5,(255,255,255))\n",
    "plt.imshow(pic)"
   ]
  },
  {
   "cell_type": "markdown",
   "metadata": {},
   "source": [
    "### 画像をまとめて出力"
   ]
  },
  {
   "cell_type": "code",
   "execution_count": 37,
   "metadata": {},
   "outputs": [],
   "source": [
    "for i, time in enumerate(range(9501)):\n",
    "    temp = cv2.imread('/mnt/recordings/AnalysisResult/Seno/opmap/HRS2018/20170927/2006-02-18-1/C001S0011@/all/{0:06d}.png'.format(time))\n",
    "    pic = copy.deepcopy(temp)\n",
    "    #pic[:, :, 0] = temp[:, :, 2]\n",
    "    #pic[:, :, 2] = temp[:, :, 0]\n",
    "    center_x = 69\n",
    "    center_y = 73\n",
    "\n",
    "    for j in range(128):\n",
    "        for k in range(128):\n",
    "            if (j-center_x)*(j-center_x)+(k-center_y)*(k-center_y) > 1600:\n",
    "                pic[k, j, :] = 0\n",
    "    cv2.putText(pic, \"{0:0>4}\".format(time), (5,15), cv2.FONT_HERSHEY_PLAIN,.8,(255,255,255))\n",
    "    cv2.imwrite('/mnt/recordings/AnalysisResult/Seno/opmap/HRS2018/20170927/2006-02-18-1/C001S0011@/circle/{0:0>6}.png'.format(i), pic)"
   ]
  },
  {
   "cell_type": "code",
   "execution_count": 38,
   "metadata": {
    "collapsed": true
   },
   "outputs": [],
   "source": [
    "cmd = 'ffmpeg -r 30 -y -i \"{0}/%06d.png\" -c:v libx264 -pix_fmt yuv420p -qscale 0 \"{0}/movie.mp4\"'.format('/mnt/recordings/AnalysisResult/Seno/opmap/HRS2018/20170927/2006-02-18-1/C001S0011@/circle')"
   ]
  },
  {
   "cell_type": "code",
   "execution_count": 39,
   "metadata": {},
   "outputs": [
    {
     "data": {
      "text/plain": [
       "0"
      ]
     },
     "execution_count": 39,
     "metadata": {},
     "output_type": "execute_result"
    }
   ],
   "source": [
    "subprocess.call(cmd, shell=True)"
   ]
  },
  {
   "cell_type": "markdown",
   "metadata": {
    "collapsed": true
   },
   "source": [
    "### 部分的な動画作成"
   ]
  },
  {
   "cell_type": "code",
   "execution_count": 42,
   "metadata": {},
   "outputs": [
    {
     "data": {
      "text/plain": [
       "0"
      ]
     },
     "execution_count": 42,
     "metadata": {},
     "output_type": "execute_result"
    }
   ],
   "source": [
    "for i, time in enumerate(range(5265, 5376)):\n",
    "    temp = cv2.imread('/mnt/recordings/AnalysisResult/Seno/opmap/HRS2018/20170927/2006-02-18-1/C001S0011@/all/{0:06d}.png'.format(time))\n",
    "    pic = copy.deepcopy(temp)\n",
    "    cv2.putText(pic, \"{0:0>4}\".format(time), (5,15), cv2.FONT_HERSHEY_PLAIN,.8,(255,255,255))\n",
    "    cv2.imwrite('/mnt/recordings/AnalysisResult/Seno/opmap/HRS2018/20170927/2006-02-18-1/C001S0011@/5265-5375/{0:0>6}.png'.format(i), pic)\n",
    "    \n",
    "cmd = 'ffmpeg -r 5 -y -i \"{0}/%06d.png\" -c:v libx264 -pix_fmt yuv420p -qscale 0 \"{0}/movie.mp4\"'.format('/mnt/recordings/AnalysisResult/Seno/opmap/HRS2018/20170927/2006-02-18-1/C001S0011@/5265-5375')\n",
    "subprocess.call(cmd, shell=True)"
   ]
  },
  {
   "cell_type": "code",
   "execution_count": null,
   "metadata": {
    "collapsed": true
   },
   "outputs": [],
   "source": []
  }
 ],
 "metadata": {
  "kernelspec": {
   "display_name": "Python 2",
   "language": "python",
   "name": "python2"
  },
  "language_info": {
   "codemirror_mode": {
    "name": "ipython",
    "version": 2
   },
   "file_extension": ".py",
   "mimetype": "text/x-python",
   "name": "python",
   "nbconvert_exporter": "python",
   "pygments_lexer": "ipython2",
   "version": "2.7.13"
  }
 },
 "nbformat": 4,
 "nbformat_minor": 2
}
