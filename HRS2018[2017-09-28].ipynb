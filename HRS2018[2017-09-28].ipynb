{
 "cells": [
  {
   "cell_type": "markdown",
   "metadata": {},
   "source": [
    "# 動物標本を用いた局所冷却実験の解析"
   ]
  },
  {
   "cell_type": "markdown",
   "metadata": {},
   "source": [
    "## 解析するデータ\n",
    "データは20170924にnumpyデータが入っている\n",
    "- 2005-04-16-1/S0025\n",
    "- 2005-08-24-2/S0011\n",
    "- 2006-02-18-1/S0011"
   ]
  },
  {
   "cell_type": "code",
   "execution_count": 2,
   "metadata": {
    "collapsed": true
   },
   "outputs": [],
   "source": [
    "import numpy as np\n",
    "import matplotlib.pyplot as plt\n",
    "import os\n",
    "import subprocess\n",
    "import cv2\n",
    "import copy\n",
    "%matplotlib inline"
   ]
  },
  {
   "cell_type": "code",
   "execution_count": 3,
   "metadata": {
    "collapsed": true
   },
   "outputs": [],
   "source": [
    "from opmap.RawCam import RawCam\n",
    "from opmap.VmemMap import VmemMap\n",
    "from opmap.PhaseMap import PhaseMap\n",
    "from opmap.PhaseVarianceMap import PhaseVarianceMap"
   ]
  },
  {
   "cell_type": "markdown",
   "metadata": {
    "collapsed": true
   },
   "source": [
    "## 旋回中心の移動経路を抽出したい"
   ]
  },
  {
   "cell_type": "markdown",
   "metadata": {},
   "source": [
    "### 旋回中心の位置を取得"
   ]
  },
  {
   "cell_type": "code",
   "execution_count": 99,
   "metadata": {
    "collapsed": true
   },
   "outputs": [],
   "source": [
    "f = open('/mnt/recordings/AnalysisResult/Seno/opmap/HRS2018/20170927/2005-04-16-1/C001S0025@/core.log')\n",
    "lines = f.readlines()\n",
    "f.close()"
   ]
  },
  {
   "cell_type": "code",
   "execution_count": 198,
   "metadata": {},
   "outputs": [
    {
     "name": "stdout",
     "output_type": "stream",
     "text": [
      "['3.013000000000000000e+03', '1.170000000000000000e+02', '9.683333333333332860e+01', '3.000000000000000000e+01']\n",
      "30\n",
      "96\n"
     ]
    }
   ],
   "source": [
    "width = 1\n",
    "core_map = np.zeros((128, 128))\n",
    "for line in lines:\n",
    "    data = line.split('\\n')[0].split(' ')\n",
    "    if int(float(data[0])) == 3013:\n",
    "        x = int(float(data[3]))\n",
    "        y = int(float(data[2]))\n",
    "        print(data)\n",
    "        print(x)\n",
    "        print(y)\n",
    "        core_map[y-width:y+width, x-width:x+width] = 1"
   ]
  },
  {
   "cell_type": "code",
   "execution_count": 170,
   "metadata": {},
   "outputs": [
    {
     "data": {
      "text/plain": [
       "<matplotlib.image.AxesImage at 0x7f402a376d50>"
      ]
     },
     "execution_count": 170,
     "metadata": {},
     "output_type": "execute_result"
    },
    {
     "data": {
      "image/png": "[encoded data removed]",
      "text/plain": [
       "<matplotlib.figure.Figure at 0x7f402a37c4d0>"
      ]
     },
     "metadata": {},
     "output_type": "display_data"
    }
   ],
   "source": [
    "plt.imshow(core_map)"
   ]
  },
  {
   "cell_type": "code",
   "execution_count": 199,
   "metadata": {},
   "outputs": [
    {
     "name": "stdout",
     "output_type": "stream",
     "text": [
      "['3.013000000000000000e+03', '1.170000000000000000e+02', '9.683333333333332860e+01', '3.000000000000000000e+01']\n",
      "30\n",
      "96\n"
     ]
    }
   ],
   "source": [
    "width = 1\n",
    "core_map = np.zeros((128, 128))\n",
    "for line in lines:\n",
    "    data = line.split('\\n')[0].split(' ')\n",
    "    if int(float(data[1])) == 117:\n",
    "        x = int(float(data[3]))\n",
    "        y = int(float(data[2]))\n",
    "        print(data)\n",
    "        print(x)\n",
    "        print(y)\n",
    "        core_map[y-width:y+width, x-width:x+width] = 1"
   ]
  },
  {
   "cell_type": "code",
   "execution_count": 167,
   "metadata": {},
   "outputs": [
    {
     "data": {
      "text/plain": [
       "<matplotlib.image.AxesImage at 0x7f402a3bb610>"
      ]
     },
     "execution_count": 167,
     "metadata": {},
     "output_type": "execute_result"
    },
    {
     "data": {
      "image/png": "[encoded data removed]",
      "text/plain": [
       "<matplotlib.figure.Figure at 0x7f402a4ca310>"
      ]
     },
     "metadata": {},
     "output_type": "display_data"
    }
   ],
   "source": [
    "plt.imshow(core_map)"
   ]
  },
  {
   "cell_type": "markdown",
   "metadata": {},
   "source": [
    "### カメラデータ取得"
   ]
  },
  {
   "cell_type": "code",
   "execution_count": 102,
   "metadata": {
    "collapsed": true
   },
   "outputs": [],
   "source": [
    "cam = RawCam(path='/mnt/recordings/ExperimentData/2005-04-16-1/C001S0025@',\n",
    "             cam_type='sa4',\n",
    "             image_width=256, image_height=256,\n",
    "             frame_start=0, frame_end=10)"
   ]
  },
  {
   "cell_type": "code",
   "execution_count": 118,
   "metadata": {
    "collapsed": true
   },
   "outputs": [],
   "source": [
    "back_ground = cv2.resize(cam.data[0]/np.max(cam.data[0]), (128, 128))"
   ]
  },
  {
   "cell_type": "markdown",
   "metadata": {},
   "source": [
    "### 旋回中心の位置をミックス"
   ]
  },
  {
   "cell_type": "code",
   "execution_count": 143,
   "metadata": {
    "collapsed": true
   },
   "outputs": [],
   "source": [
    "color_image = np.zeros((128, 128, 3))\n",
    "color_image[:, :, 0] = back_ground * (1-core_map) + core_map\n",
    "color_image[:, :, 1] = back_ground * (1-core_map)\n",
    "color_image[:, :, 2] = back_ground * (1-core_map)"
   ]
  },
  {
   "cell_type": "code",
   "execution_count": 144,
   "metadata": {},
   "outputs": [
    {
     "data": {
      "text/plain": [
       "<matplotlib.image.AxesImage at 0x7f40290b3750>"
      ]
     },
     "execution_count": 144,
     "metadata": {},
     "output_type": "execute_result"
    },
    {
     "data": {
      "image/png": "[encoded data removed]",
      "text/plain": [
       "<matplotlib.figure.Figure at 0x7f40291792d0>"
      ]
     },
     "metadata": {},
     "output_type": "display_data"
    }
   ],
   "source": [
    "cv2.putText(color_image, \"{0:0>4}\".format(700), (2,12), cv2.FONT_HERSHEY_PLAIN,0.8,(1,1,1))\n",
    "plt.imshow(color_image)"
   ]
  },
  {
   "cell_type": "markdown",
   "metadata": {},
   "source": [
    "### 2005-04-16-1"
   ]
  },
  {
   "cell_type": "code",
   "execution_count": 149,
   "metadata": {
    "collapsed": true
   },
   "outputs": [],
   "source": [
    "f = open('/mnt/recordings/AnalysisResult/Seno/opmap/HRS2018/20170927/2005-04-16-1/C001S0025@/core.log')\n",
    "lines = f.readlines()\n",
    "f.close()\n",
    "\n",
    "cam = RawCam(path='/mnt/recordings/ExperimentData/2005-04-16-1/C001S0025@',\n",
    "             cam_type='sa4',\n",
    "             image_width=256, image_height=256,\n",
    "             frame_start=0, frame_end=10)\n",
    "\n",
    "back_ground = cv2.resize(cam.data[0]/np.max(cam.data[0]), (128, 128))"
   ]
  },
  {
   "cell_type": "code",
   "execution_count": 194,
   "metadata": {},
   "outputs": [],
   "source": [
    "time = 0\n",
    "width = 2\n",
    "time_lapse = 0.98\n",
    "core_map = np.zeros((128, 128))\n",
    "center_ids = [29, 42, 49, 70, 88, 89, 91, 92]\n",
    "while time < 3000:\n",
    "    core_map = core_map * time_lapse\n",
    "\n",
    "    for line in lines:\n",
    "        data = line.split('\\n')[0].split(' ')\n",
    "        if int(float(data[1])) in center_ids and int(float(data[0])) == time:\n",
    "            x = int(float(data[3]))\n",
    "            y = int(float(data[2])) \n",
    "            core_map[y-width:y+width, x-width:x+width] = 1\n",
    "    color_image = np.zeros((128, 128, 3))\n",
    "    color_image[:, :, 2] = (back_ground * (1-core_map) + core_map) * 255\n",
    "    color_image[:, :, 1] = back_ground * (1-core_map) * 255\n",
    "    color_image[:, :, 0] = back_ground * (1-core_map) * 255\n",
    "    cv2.putText(color_image, \"{0:0>4}\".format(time), (2,12), cv2.FONT_HERSHEY_PLAIN,0.8,(255,255,255))\n",
    "    cv2.imwrite('/mnt/recordings/AnalysisResult/Seno/opmap/HRS2018/20170928/2005-04-16-1/C001S0025@/SW/{0:0>6}.png'.format(time), color_image)\n",
    "    \n",
    "    time += 1"
   ]
  },
  {
   "cell_type": "code",
   "execution_count": 200,
   "metadata": {},
   "outputs": [
    {
     "data": {
      "text/plain": [
       "0"
      ]
     },
     "execution_count": 200,
     "metadata": {},
     "output_type": "execute_result"
    }
   ],
   "source": [
    "cmd = 'ffmpeg -r 30 -y -i \"{0}/%06d.png\" -c:v libx264 -pix_fmt yuv420p -qscale 0 \"{0}/movie.mp4\"'.format('/mnt/recordings/AnalysisResult/Seno/opmap/HRS2018/20170928/2005-04-16-1/C001S0025@/SW')\n",
    "subprocess.call(cmd, shell=True)"
   ]
  },
  {
   "cell_type": "code",
   "execution_count": null,
   "metadata": {
    "collapsed": true
   },
   "outputs": [],
   "source": []
  }
 ],
 "metadata": {
  "kernelspec": {
   "display_name": "Python 2",
   "language": "python",
   "name": "python2"
  },
  "language_info": {
   "codemirror_mode": {
    "name": "ipython",
    "version": 2
   },
   "file_extension": ".py",
   "mimetype": "text/x-python",
   "name": "python",
   "nbconvert_exporter": "python",
   "pygments_lexer": "ipython2",
   "version": "2.7.13"
  }
 },
 "nbformat": 4,
 "nbformat_minor": 2
}
