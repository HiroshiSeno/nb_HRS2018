{
 "cells": [
  {
   "cell_type": "markdown",
   "metadata": {},
   "source": [
    "# 動物標本を用いた局所冷却実験の解析"
   ]
  },
  {
   "cell_type": "markdown",
   "metadata": {},
   "source": [
    "## 解析するデータ\n",
    "データは20170924にnumpyデータが入っている\n",
    "- 2005-04-16-1/S0025\n",
    "- 2005-08-24-2/S0011\n",
    "- 2006-02-18-1/S0011"
   ]
  },
  {
   "cell_type": "code",
   "execution_count": 2,
   "metadata": {
    "collapsed": true
   },
   "outputs": [],
   "source": [
    "import numpy as np\n",
    "import matplotlib.pyplot as plt\n",
    "import os\n",
    "import subprocess\n",
    "import cv2\n",
    "import copy\n",
    "%matplotlib inline"
   ]
  },
  {
   "cell_type": "code",
   "execution_count": 3,
   "metadata": {
    "collapsed": true
   },
   "outputs": [],
   "source": [
    "from opmap.RawCam import RawCam\n",
    "from opmap.VmemMap import VmemMap\n",
    "from opmap.PhaseMap import PhaseMap\n",
    "from opmap.PhaseVarianceMap import PhaseVarianceMap"
   ]
  },
  {
   "cell_type": "markdown",
   "metadata": {
    "collapsed": true
   },
   "source": [
    "## 2005-04-16-1を解析"
   ]
  },
  {
   "cell_type": "code",
   "execution_count": 20,
   "metadata": {
    "collapsed": true
   },
   "outputs": [],
   "source": [
    "window_sizes = [9,10,11,12]\n",
    "directories = ['2005-04-16-1/C001S0025@', '2005-08-24-2/C001S0011@', '2006-02-18-1/C001S0011@']"
   ]
  },
  {
   "cell_type": "code",
   "execution_count": null,
   "metadata": {
    "collapsed": true
   },
   "outputs": [],
   "source": [
    "for directory in directories:\n",
    "    cam = RawCam(path='/mnt/recordings/ExperimentData/%s' % directory,\n",
    "                 cam_type='sa4',\n",
    "                 image_width=256, image_height=256,\n",
    "                 frame_start=0, frame_end=-1)\n",
    "    cam.setIntROI(val_min=100)\n",
    "\n",
    "    for window_size in window_sizes:\n",
    "        result_parent = '/mnt/recordings/AnalysisResult/Seno/opmap/HRS2018/20170929/window%s/%s' % (window_size, directory)\n",
    "        if not os.path.exists(result_parent):\n",
    "            os.makedirs(result_parent)\n",
    "\n",
    "        vmem = VmemMap(cam)\n",
    "        vmem.smooth(size=window_size)\n",
    "        vmem.saveImage(os.path.join(result_parent, 'vmem'))\n",
    "        np.save(os.path.join(result_parent, 'vmem.npy'), vmem.data)\n",
    "        cmd = 'ffmpeg -r 30 -y -i \"{0}/%06d.png\" -c:v libx264 -pix_fmt yuv420p -qscale 0 \"{0}/movie.mp4\"'.format(os.path.join(result_parent, 'vmem'))\n",
    "        subprocess.call(cmd, shell=True)\n",
    "\n",
    "        pmap = PhaseMap(vmem, shrink=2)\n",
    "        pmap.saveImage(os.path.join(result_parent, 'pmap'))\n",
    "        np.save(os.path.join(result_parent, 'pmap.npy'), pmap.data)\n",
    "        cmd = 'ffmpeg -r 30 -y -i \"{0}/%06d.png\" -c:v libx264 -pix_fmt yuv420p -qscale 0 \"{0}/movie.mp4\"'.format(os.path.join(result_parent, 'pmap'))\n",
    "        subprocess.call(cmd, shell=True)\n",
    "\n",
    "        pvmap = PhaseVarianceMap(pmap, size=3)\n",
    "        pvmap.saveImage(os.path.join(result_parent, 'pvmap'))\n",
    "        np.save(os.path.join(result_parent, 'pvmap.npy'), pvmap.data)\n",
    "        cmd = 'ffmpeg -r 30 -y -i \"{0}/%06d.png\" -c:v libx264 -pix_fmt yuv420p -qscale 0 \"{0}/movie.mp4\"'.format(os.path.join(result_parent, 'pvmap'))\n",
    "        subprocess.call(cmd, shell=True)"
   ]
  },
  {
   "cell_type": "code",
   "execution_count": null,
   "metadata": {
    "collapsed": true
   },
   "outputs": [],
   "source": []
  }
 ],
 "metadata": {
  "kernelspec": {
   "display_name": "Python 2",
   "language": "python",
   "name": "python2"
  },
  "language_info": {
   "codemirror_mode": {
    "name": "ipython",
    "version": 2
   },
   "file_extension": ".py",
   "mimetype": "text/x-python",
   "name": "python",
   "nbconvert_exporter": "python",
   "pygments_lexer": "ipython2",
   "version": "2.7.13"
  }
 },
 "nbformat": 4,
 "nbformat_minor": 2
}
