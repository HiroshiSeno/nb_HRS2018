{
 "cells": [
  {
   "cell_type": "markdown",
   "metadata": {},
   "source": [
    "# 動物標本を用いた局所冷却実験の解析"
   ]
  },
  {
   "cell_type": "markdown",
   "metadata": {},
   "source": [
    "## 解析するデータ\n",
    "\n",
    "- 2005-04-16-1/S0025\n",
    "- 2005-08-24-2/S0011\n",
    "- 2006-02-18-1/S0011"
   ]
  },
  {
   "cell_type": "code",
   "execution_count": 1,
   "metadata": {
    "collapsed": true
   },
   "outputs": [],
   "source": [
    "import numpy as np\n",
    "import matplotlib.pyplot as plt\n",
    "import os\n",
    "import subprocess\n",
    "import cv2\n",
    "import copy\n",
    "from scipy import ndimage\n",
    "%matplotlib inline"
   ]
  },
  {
   "cell_type": "code",
   "execution_count": 2,
   "metadata": {
    "collapsed": true
   },
   "outputs": [],
   "source": [
    "from opmap.RawCam import RawCam\n",
    "from opmap.VmemMap import VmemMap\n",
    "from opmap.PhaseMap import PhaseMap\n",
    "from opmap.PhaseVarianceMap import PhaseVarianceMap\n",
    "from opmap.APDMap import APDMap"
   ]
  },
  {
   "cell_type": "markdown",
   "metadata": {},
   "source": [
    "## windowサイズの決定"
   ]
  },
  {
   "cell_type": "code",
   "execution_count": 7,
   "metadata": {
    "collapsed": true
   },
   "outputs": [],
   "source": [
    "window_sizes = np.arange(3, 26)"
   ]
  },
  {
   "cell_type": "code",
   "execution_count": 14,
   "metadata": {
    "collapsed": true
   },
   "outputs": [],
   "source": [
    "cam = RawCam(path='/mnt/recordings/ExperimentData/2005-04-16-1/C001S0025@',\n",
    "                 cam_type='sa4',\n",
    "                 image_width=256, image_height=256,\n",
    "                 frame_start=0, frame_end=100)"
   ]
  },
  {
   "cell_type": "code",
   "execution_count": 15,
   "metadata": {
    "collapsed": true
   },
   "outputs": [],
   "source": [
    "for window_size in window_sizes:\n",
    "    result_name = '/mnt/recordings/AnalysisResult/Seno/opmap/HRS2018/20171006/filter/2005-04-16-1/'\n",
    "    if not os.path.exists(result_name):\n",
    "        os.makedirs(result_name)\n",
    "    plt.imsave(result_name+'window_%s.png' % window_size, ndimage.gaussian_filter(cam.data[50, :, :], sigma=window_size))"
   ]
  },
  {
   "cell_type": "markdown",
   "metadata": {},
   "source": [
    "## windowサイズ 20で解析"
   ]
  },
  {
   "cell_type": "code",
   "execution_count": 6,
   "metadata": {
    "collapsed": true
   },
   "outputs": [],
   "source": [
    "directories = ['2005-04-16-1/C001S0025@', '2005-08-24-2/C001S0011@', '2006-02-18-1/C001S0011@']\n",
    "threshold = 0.4"
   ]
  },
  {
   "cell_type": "code",
   "execution_count": null,
   "metadata": {
    "collapsed": true
   },
   "outputs": [],
   "source": [
    "for directory in directories:\n",
    "    cam = RawCam(path='/mnt/recordings/ExperimentData/%s' % directory,\n",
    "                 cam_type='sa4',\n",
    "                 image_width=256, image_height=256,\n",
    "                 frame_start=0, frame_end=-1)\n",
    "    cam.setIntROI(val_min=100)\n",
    "\n",
    "    result_parent = '/mnt/recordings/AnalysisResult/Seno/opmap/HRS2018/20171006/%s' % directory\n",
    "    if not os.path.exists(result_parent):\n",
    "        os.makedirs(result_parent)\n",
    "\n",
    "    vmem = VmemMap(cam)\n",
    "    vmem.smooth(size=20)\n",
    "    vmem.saveImage(os.path.join(result_parent, 'vmem'))\n",
    "    np.save(os.path.join(result_parent, 'vmem.npy'), vmem.data)\n",
    "    cmd = 'ffmpeg -r 30 -y -i \"{0}/%06d.png\" -c:v libx264 -pix_fmt yuv420p -qscale 0 \"{0}/movie.mp4\"'.format(os.path.join(result_parent, 'vmem'))\n",
    "    subprocess.call(cmd, shell=True)\n",
    "\n",
    "    \n",
    "    pmap = PhaseMap(vmem, shrink=2)\n",
    "    pmap.saveImage(os.path.join(result_parent, 'pmap'))\n",
    "    cmd = 'ffmpeg -r 30 -y -i \"{0}/%06d.png\" -c:v libx264 -pix_fmt yuv420p -qscale 0 \"{0}/movie.mp4\"'.format(os.path.join(result_parent, 'pmap'))\n",
    "    subprocess.call(cmd, shell=True)\n",
    "\n",
    "    pvmap = PhaseVarianceMap(pmap, size=3)\n",
    "    pvmap.saveImage(os.path.join(result_parent, 'pvmap'))\n",
    "    np.save(os.path.join(result_parent, 'pvmap.npy'), pvmap.data)\n",
    "    cmd = 'ffmpeg -r 30 -y -i \"{0}/%06d.png\" -c:v libx264 -pix_fmt yuv420p -qscale 0 \"{0}/movie.mp4\"'.format(os.path.join(result_parent, 'pvmap'))\n",
    "    subprocess.call(cmd, shell=True)\n",
    "    \n",
    "    APV_array = np.zeros((128, 128))\n",
    "    phase_variance_array = copy.deepcopy(pvmap.data)\n",
    "    ROI = copy.deepcopy(pvmap.roi)\n",
    "    core = (phase_variance_array > threshold) * 1\n",
    "    core_count = np.sum(core, axis=0)\n",
    "    \n",
    "    for i in range(128):\n",
    "        for j in range(128):\n",
    "            if ROI[i,j] != 0:\n",
    "                data = copy.deepcopy(phase_variance_array[:, i, j])\n",
    "                time = data.shape[0]\n",
    "                while np.max(data) > threshold:\n",
    "                    x_pos = np.argmax(data)\n",
    "                    x_max = x_pos + 1\n",
    "                    x_min = x_pos - 1\n",
    "                    while x_max < time and data[x_max - 1] > data[x_max]:\n",
    "                        x_max += 1\n",
    "                    while x_min > -1 and data[x_min] < data[x_min + 1]:\n",
    "                        x_min -= 1\n",
    "                    data[x_min+2:x_max] = 0\n",
    "                APV_array[i,j] = np.sum(data)/len(np.nonzero(data)[0])\n",
    "                \"\"\"\n",
    "                if core_count[i,j] > 0:\n",
    "                    passed_list.append(APV_array[i,j])\n",
    "                else:\n",
    "                    nonpassed_list.append(APV_array[i,j])\n",
    "                \"\"\"\n",
    "\n",
    "    plt.imshow(core_count, cmap='jet')\n",
    "    plt.colorbar()\n",
    "    plt.savefig(os.path.join(result_parent, 'core.png'), dpi=300, transparent=True)\n",
    "    plt.close()\n",
    "    \n",
    "    plt.imshow(APV_array, cmap='jet')\n",
    "    plt.colorbar()\n",
    "    plt.savefig(os.path.join(result_parent, 'APV.png'), dpi=300, transparent=True)\n",
    "    plt.close()"
   ]
  },
  {
   "cell_type": "markdown",
   "metadata": {},
   "source": [
    "## カメラ画像出力"
   ]
  },
  {
   "cell_type": "code",
   "execution_count": 16,
   "metadata": {
    "collapsed": true
   },
   "outputs": [],
   "source": [
    "for directory in directories:\n",
    "    cam = RawCam(path='/mnt/recordings/ExperimentData/%s' % directory,\n",
    "                 cam_type='sa4',\n",
    "                 image_width=256, image_height=256,\n",
    "                 frame_start=0, frame_end=100)\n",
    "    cam.setIntROI(val_min=100)\n",
    "\n",
    "    result_parent = '/mnt/recordings/AnalysisResult/Seno/opmap/HRS2018/20171006/%s' % directory\n",
    "    if not os.path.exists(result_parent):\n",
    "        os.makedirs(result_parent)\n",
    "\n",
    "    cam.saveImage(os.path.join(result_parent, 'cam'))"
   ]
  },
  {
   "cell_type": "markdown",
   "metadata": {},
   "source": [
    "## APDマップ作成"
   ]
  },
  {
   "cell_type": "code",
   "execution_count": 3,
   "metadata": {
    "collapsed": true
   },
   "outputs": [],
   "source": [
    "APD_directories = ['2005-04-16-1/C001S0001#', '2005-04-16-1/C001S0002#', '2005-04-16-1/C001S0003#',\n",
    "                   '2005-04-16-1/C001S0004#', '2005-04-16-1/C001S0007#', '2005-04-16-1/C001S0008#']"
   ]
  },
  {
   "cell_type": "code",
   "execution_count": 8,
   "metadata": {},
   "outputs": [
    {
     "name": "stdout",
     "output_type": "stream",
     "text": [
      "2005-04-16-1/C001S0001#\n",
      "2005-04-16-1/C001S0002#\n",
      "2005-04-16-1/C001S0003#\n",
      "2005-04-16-1/C001S0004#\n",
      "2005-04-16-1/C001S0007#\n",
      "2005-04-16-1/C001S0008#\n"
     ]
    }
   ],
   "source": [
    "for directory in APD_directories:\n",
    "    print(directory)\n",
    "    cam = RawCam(path='/mnt/recordings/ExperimentData/%s' % directory,\n",
    "                 cam_type='sa4',\n",
    "                 image_width=256, image_height=256,\n",
    "                 frame_start=0, frame_end=10)\n",
    "    cam.setIntROI(val_min=100)\n",
    "\n",
    "    result_parent = '/mnt/recordings/AnalysisResult/Seno/opmap/HRS2018/20171009/%s' % directory\n",
    "    if not os.path.exists(result_parent):\n",
    "        os.makedirs(result_parent)\n",
    "\n",
    "    cam.saveImage(os.path.join(result_parent, 'cam'))\n",
    "\n",
    "    \"\"\"    \n",
    "    vmem = VmemMap(cam)\n",
    "    vmem.smooth(size=20)\n",
    "    np.save(os.path.join(result_parent, 'vmem.npy'), vmem.data)\n",
    "    APD = APDMap(vmem)\n",
    "    np.save(os.path.join(result_parent, 'APD.npy'), APD.data)\n",
    "    \"\"\""
   ]
  },
  {
   "cell_type": "code",
   "execution_count": null,
   "metadata": {
    "collapsed": true
   },
   "outputs": [],
   "source": []
  }
 ],
 "metadata": {
  "kernelspec": {
   "display_name": "Python 2",
   "language": "python",
   "name": "python2"
  },
  "language_info": {
   "codemirror_mode": {
    "name": "ipython",
    "version": 2
   },
   "file_extension": ".py",
   "mimetype": "text/x-python",
   "name": "python",
   "nbconvert_exporter": "python",
   "pygments_lexer": "ipython2",
   "version": "2.7.13"
  }
 },
 "nbformat": 4,
 "nbformat_minor": 2
}
