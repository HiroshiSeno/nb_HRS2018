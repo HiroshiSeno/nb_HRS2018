{
 "cells": [
  {
   "cell_type": "markdown",
   "metadata": {},
   "source": [
    "# 動物標本を用いた局所冷却実験の解析"
   ]
  },
  {
   "cell_type": "markdown",
   "metadata": {},
   "source": [
    "## 解析するデータ\n",
    "\n",
    "- 2005-04-16-1/S0025\n",
    "- 2005-08-24-2/S0011\n",
    "- 2006-02-18-1/S0011"
   ]
  },
  {
   "cell_type": "code",
   "execution_count": 1,
   "metadata": {
    "collapsed": true
   },
   "outputs": [],
   "source": [
    "import numpy as np\n",
    "import matplotlib.pyplot as plt\n",
    "import os\n",
    "import subprocess\n",
    "import cv2\n",
    "import copy\n",
    "from scipy import ndimage\n",
    "%matplotlib inline"
   ]
  },
  {
   "cell_type": "code",
   "execution_count": 2,
   "metadata": {
    "collapsed": true
   },
   "outputs": [],
   "source": [
    "from opmap.RawCam import RawCam\n",
    "from opmap.VmemMap import VmemMap\n",
    "from opmap.PhaseMap import PhaseMap\n",
    "from opmap.PhaseVarianceMap import PhaseVarianceMap\n",
    "from opmap.APDMap import APDMap"
   ]
  },
  {
   "cell_type": "markdown",
   "metadata": {
    "collapsed": true
   },
   "source": [
    "## APDマップ確認\n",
    "C001S0007#のとき、APDの多くが180以上になっている"
   ]
  },
  {
   "cell_type": "code",
   "execution_count": 59,
   "metadata": {
    "collapsed": true
   },
   "outputs": [],
   "source": [
    "#directories = ['C001S0001#', 'C001S0002#', 'C001S0003#', 'C001S0004#', 'C001S0007#', 'C001S0008#']\n",
    "directories = ['C001S0007#']"
   ]
  },
  {
   "cell_type": "code",
   "execution_count": 60,
   "metadata": {},
   "outputs": [
    {
     "name": "stdout",
     "output_type": "stream",
     "text": [
      "C001S0007#\n"
     ]
    }
   ],
   "source": [
    "for directory in directories:\n",
    "    print(directory)\n",
    "    source_path = '/mnt/recordings/AnalysisResult/Seno/opmap/HRS2018/20171009/2005-04-16-1/%s/APD.npy' % directory\n",
    "    result_path = '/mnt/recordings/AnalysisResult/Seno/opmap/HRS2018/20171010/2005-04-16-1/%s/APD' % directory\n",
    "    if not os.path.exists(result_path):\n",
    "        os.makedirs(result_path)\n",
    "        \n",
    "    APD = np.load(source_path)\n",
    "    APD[APD > 220] = 220\n",
    "    \n",
    "    for time in np.arange(0, APD.shape[0], 100):\n",
    "        plt.imshow(APD[time, :, :], vmin=100, vmax=220)\n",
    "        plt.colorbar()\n",
    "        plt.tight_layout()\n",
    "        plt.savefig(os.path.join(result_path, '%s.png' % time), dpi=300)\n",
    "        plt.close()"
   ]
  },
  {
   "cell_type": "code",
   "execution_count": null,
   "metadata": {
    "collapsed": true
   },
   "outputs": [],
   "source": []
  }
 ],
 "metadata": {
  "kernelspec": {
   "display_name": "Python 2",
   "language": "python",
   "name": "python2"
  },
  "language_info": {
   "codemirror_mode": {
    "name": "ipython",
    "version": 2
   },
   "file_extension": ".py",
   "mimetype": "text/x-python",
   "name": "python",
   "nbconvert_exporter": "python",
   "pygments_lexer": "ipython2",
   "version": "2.7.13"
  }
 },
 "nbformat": 4,
 "nbformat_minor": 2
}
