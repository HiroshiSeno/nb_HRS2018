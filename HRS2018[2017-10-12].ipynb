{
 "cells": [
  {
   "cell_type": "markdown",
   "metadata": {},
   "source": [
    "# 動物標本を用いた局所冷却実験の解析"
   ]
  },
  {
   "cell_type": "markdown",
   "metadata": {},
   "source": [
    "## 解析するデータ\n",
    "\n",
    "- 2005-04-16-1/S0025\n",
    "- 2005-08-24-2/S0011\n",
    "- 2006-02-18-1/S0011"
   ]
  },
  {
   "cell_type": "code",
   "execution_count": 1,
   "metadata": {
    "collapsed": true
   },
   "outputs": [],
   "source": [
    "import numpy as np\n",
    "import matplotlib.pyplot as plt\n",
    "import os\n",
    "import subprocess\n",
    "import cv2\n",
    "import copy\n",
    "from scipy import ndimage\n",
    "%matplotlib inline"
   ]
  },
  {
   "cell_type": "code",
   "execution_count": 2,
   "metadata": {
    "collapsed": true
   },
   "outputs": [],
   "source": [
    "from opmap.RawCam import RawCam\n",
    "from opmap.VmemMap import VmemMap\n",
    "from opmap.PhaseMap import PhaseMap\n",
    "from opmap.PhaseVarianceMap import PhaseVarianceMap\n",
    "from opmap.APDMap import APDMap"
   ]
  },
  {
   "cell_type": "markdown",
   "metadata": {
    "collapsed": true
   },
   "source": [
    "# APD\n",
    "\n",
    "- C001S0001#:冷却なし CL400ms\n",
    "- C001S0002#:冷却なし CL800ms\n",
    "- C001S0003#:冷却なし CL230ms付近\n",
    "- C001S0004#:冷却あり CL230ms付近\n",
    "- C001S0007#:冷却あり CL400ms\n",
    "- C001S0008#:冷却あり CLわからない　後脱分極あり"
   ]
  },
  {
   "cell_type": "markdown",
   "metadata": {},
   "source": [
    "## APD波形確認"
   ]
  },
  {
   "cell_type": "code",
   "execution_count": 74,
   "metadata": {
    "collapsed": true
   },
   "outputs": [],
   "source": [
    "vmem_before_400 = np.load('/mnt/recordings/AnalysisResult/Seno/opmap/HRS2018/20171009/2005-04-16-1/C001S0001#/vmem.npy')\n",
    "vmem_after_400 = np.load('/mnt/recordings/AnalysisResult/Seno/opmap/HRS2018/20171009/2005-04-16-1/C001S0007#/vmem.npy')"
   ]
  },
  {
   "cell_type": "code",
   "execution_count": 96,
   "metadata": {},
   "outputs": [],
   "source": [
    "plt.plot(vmem_before_400[1380:1780, 128, 128], label='Control')\n",
    "plt.plot(vmem_after_400[2420:2820, 128, 128], label='Cooling')\n",
    "plt.legend(fontsize=15)\n",
    "plt.xlim([0, 400])\n",
    "plt.xlabel('Time (ms)', size=18)\n",
    "plt.tight_layout()\n",
    "plt.savefig('/mnt/recordings/AnalysisResult/Seno/opmap/HRS2018/20171012/compare_APD_CL400.png', dpi=300, transparent=True)\n",
    "plt.close()"
   ]
  },
  {
   "cell_type": "code",
   "execution_count": 76,
   "metadata": {
    "collapsed": true
   },
   "outputs": [],
   "source": [
    "vmem_before_230 = np.load('/mnt/recordings/AnalysisResult/Seno/opmap/HRS2018/20171009/2005-04-16-1/C001S0003#/vmem.npy')\n",
    "vmem_after_230 = np.load('/mnt/recordings/AnalysisResult/Seno/opmap/HRS2018/20171009/2005-04-16-1/C001S0004#/vmem.npy')"
   ]
  },
  {
   "cell_type": "code",
   "execution_count": 97,
   "metadata": {},
   "outputs": [],
   "source": [
    "plt.plot(vmem_before_230[1660:1890, 128, 128], label='Control')\n",
    "plt.plot(vmem_after_230[1670:1900, 128, 128], label='Cooling')\n",
    "plt.legend(fontsize=15)\n",
    "plt.xlabel('Time (ms)', size=18)\n",
    "plt.xlim([0, 230])\n",
    "plt.tight_layout()\n",
    "plt.savefig('/mnt/recordings/AnalysisResult/Seno/opmap/HRS2018/20171012/compare_APD_CL230.png', dpi=300, transparent=True)\n",
    "plt.close()"
   ]
  },
  {
   "cell_type": "markdown",
   "metadata": {},
   "source": [
    "## APDマップ差分マップ"
   ]
  },
  {
   "cell_type": "code",
   "execution_count": 142,
   "metadata": {
    "collapsed": true
   },
   "outputs": [],
   "source": [
    "APD_before_400 = np.load('/mnt/recordings/AnalysisResult/Seno/opmap/HRS2018/20171009/2005-04-16-1/C001S0001#/APD.npy').astype(np.int8)\n",
    "APD_after_400 = np.load('/mnt/recordings/AnalysisResult/Seno/opmap/HRS2018/20171009/2005-04-16-1/C001S0007#/APD.npy').astype(np.int8)"
   ]
  },
  {
   "cell_type": "code",
   "execution_count": 143,
   "metadata": {},
   "outputs": [
    {
     "name": "stderr",
     "output_type": "stream",
     "text": [
      "/home/tomii/.pyenv/versions/anaconda2-4.4.0/lib/python2.7/site-packages/ipykernel_launcher.py:5: RuntimeWarning: overflow encountered in byte_scalars\n",
      "  \"\"\"\n"
     ]
    }
   ],
   "source": [
    "data400 = np.zeros((256, 256))\n",
    "for i in range(256):\n",
    "    for j in range(256):\n",
    "        if APD_before_400[1600, i, j] != 0 and APD_after_400[2600, i, j] != 0:\n",
    "            data400[i,j] = APD_after_400[2600, i, j] - APD_before_400[1600, i, j]"
   ]
  },
  {
   "cell_type": "code",
   "execution_count": 144,
   "metadata": {},
   "outputs": [],
   "source": [
    "cam = RawCam(path='/mnt/recordings/ExperimentData/2005-04-16-1/C001S0001#',\n",
    "            cam_type='sa4',\n",
    "            image_width=256, image_height=256,\n",
    "             frame_start=0, frame_end=10)\n",
    "cam.setIntROI(val_min=100)\n",
    "vmem = VmemMap(cam)\n",
    "plt.imshow(data400, cmap=vmem.cmap)\n",
    "plt.colorbar()\n",
    "plt.tight_layout()\n",
    "plt.savefig('/mnt/recordings/AnalysisResult/Seno/opmap/HRS2018/20171012/APD_diff_map_CL400.png', dpi=300, transparent=True)\n",
    "plt.close()"
   ]
  },
  {
   "cell_type": "code",
   "execution_count": 145,
   "metadata": {
    "collapsed": true
   },
   "outputs": [],
   "source": [
    "APD_before_230 = np.load('/mnt/recordings/AnalysisResult/Seno/opmap/HRS2018/20171009/2005-04-16-1/C001S0003#/APD.npy').astype(np.int8)\n",
    "APD_after_230 = np.load('/mnt/recordings/AnalysisResult/Seno/opmap/HRS2018/20171009/2005-04-16-1/C001S0004#/APD.npy').astype(np.int8)"
   ]
  },
  {
   "cell_type": "code",
   "execution_count": 146,
   "metadata": {},
   "outputs": [
    {
     "name": "stderr",
     "output_type": "stream",
     "text": [
      "/home/tomii/.pyenv/versions/anaconda2-4.4.0/lib/python2.7/site-packages/ipykernel_launcher.py:5: RuntimeWarning: overflow encountered in byte_scalars\n",
      "  \"\"\"\n"
     ]
    }
   ],
   "source": [
    "data230 = np.zeros((256, 256))\n",
    "for i in range(256):\n",
    "    for j in range(256):\n",
    "        if APD_before_230[1700, i, j] != 0 and APD_after_230[1700, i, j] != 0:\n",
    "            data230[i,j] = APD_after_230[1700, i, j] - APD_before_230[1700, i, j]"
   ]
  },
  {
   "cell_type": "code",
   "execution_count": 147,
   "metadata": {
    "collapsed": true
   },
   "outputs": [],
   "source": [
    "cam = RawCam(path='/mnt/recordings/ExperimentData/2005-04-16-1/C001S0001#',\n",
    "            cam_type='sa4',\n",
    "            image_width=256, image_height=256,\n",
    "             frame_start=0, frame_end=10)\n",
    "cam.setIntROI(val_min=100)\n",
    "vmem = VmemMap(cam)\n",
    "plt.imshow(data230, cmap=vmem.cmap)\n",
    "plt.colorbar()\n",
    "plt.tight_layout()\n",
    "plt.savefig('/mnt/recordings/AnalysisResult/Seno/opmap/HRS2018/20171012/APD_diff_map_CL230.png', dpi=300, transparent=True)\n",
    "plt.close()"
   ]
  },
  {
   "cell_type": "code",
   "execution_count": null,
   "metadata": {
    "collapsed": true
   },
   "outputs": [],
   "source": []
  }
 ],
 "metadata": {
  "kernelspec": {
   "display_name": "Python 2",
   "language": "python",
   "name": "python2"
  },
  "language_info": {
   "codemirror_mode": {
    "name": "ipython",
    "version": 2
   },
   "file_extension": ".py",
   "mimetype": "text/x-python",
   "name": "python",
   "nbconvert_exporter": "python",
   "pygments_lexer": "ipython2",
   "version": "2.7.13"
  }
 },
 "nbformat": 4,
 "nbformat_minor": 2
}
