{
 "cells": [
  {
   "cell_type": "markdown",
   "metadata": {},
   "source": [
    "# 動物標本を用いた局所冷却実験の解析"
   ]
  },
  {
   "cell_type": "markdown",
   "metadata": {},
   "source": [
    "## 解析するデータ\n",
    "\n",
    "- 2006-02-18-1のペーシングデータ．APDが不均一であって欲しい"
   ]
  },
  {
   "cell_type": "code",
   "execution_count": 1,
   "metadata": {
    "collapsed": true
   },
   "outputs": [],
   "source": [
    "import numpy as np\n",
    "import matplotlib.pyplot as plt\n",
    "import os\n",
    "import subprocess\n",
    "import cv2\n",
    "import copy\n",
    "from scipy import ndimage\n",
    "%matplotlib inline"
   ]
  },
  {
   "cell_type": "code",
   "execution_count": 2,
   "metadata": {
    "collapsed": true
   },
   "outputs": [],
   "source": [
    "from opmap.RawCam import RawCam\n",
    "from opmap.VmemMap import VmemMap\n",
    "from opmap.PhaseMap import PhaseMap\n",
    "from opmap.PhaseVarianceMap import PhaseVarianceMap\n",
    "from opmap.APDMap import APDMap"
   ]
  },
  {
   "cell_type": "markdown",
   "metadata": {
    "collapsed": true
   },
   "source": [
    "## 膜電位を出力して確認"
   ]
  },
  {
   "cell_type": "code",
   "execution_count": 12,
   "metadata": {
    "collapsed": true
   },
   "outputs": [],
   "source": [
    "directories = ['C001S0001', 'C001S0002', 'C001S0003', 'C001S0004', 'C001S0005',\n",
    "               'C001S0006@', 'C001S0007', 'C001S0008', 'C001S0009@', 'C001S0010',\n",
    "               'C001S0011@', 'C001S0012', 'C001S0013', 'C001S0014@@', 'C001S0015',\n",
    "               'C001S0016', 'C001S0017@', 'C001S0018', 'C001S0019', 'C001S0020',\n",
    "               'C001S0021', 'C001S0022', 'C001S0023']"
   ]
  },
  {
   "cell_type": "code",
   "execution_count": 14,
   "metadata": {},
   "outputs": [
    {
     "name": "stdout",
     "output_type": "stream",
     "text": [
      "C001S0001\n",
      "C001S0002\n",
      "C001S0003\n",
      "C001S0004\n",
      "C001S0005\n",
      "C001S0006@\n",
      "C001S0007\n",
      "C001S0008\n",
      "C001S0009@\n",
      "C001S0010\n",
      "C001S0011@\n",
      "C001S0012\n",
      "C001S0013\n",
      "C001S0014@@\n",
      "C001S0015\n",
      "C001S0016\n",
      "C001S0017@\n",
      "C001S0018\n",
      "C001S0019\n",
      "C001S0020\n",
      "C001S0021\n",
      "C001S0022\n",
      "C001S0023\n",
      "C001S0024\n"
     ]
    },
    {
     "ename": "AssertionError",
     "evalue": "",
     "output_type": "error",
     "traceback": [
      "\u001b[0;31m\u001b[0m",
      "\u001b[0;31mAssertionError\u001b[0mTraceback (most recent call last)",
      "\u001b[0;32m<ipython-input-14-7ee6b6e1f309>\u001b[0m in \u001b[0;36m<module>\u001b[0;34m()\u001b[0m\n\u001b[1;32m      5\u001b[0m                  \u001b[0mcam_type\u001b[0m\u001b[0;34m=\u001b[0m\u001b[0;34m'sa4'\u001b[0m\u001b[0;34m,\u001b[0m\u001b[0;34m\u001b[0m\u001b[0m\n\u001b[1;32m      6\u001b[0m                  \u001b[0mimage_width\u001b[0m\u001b[0;34m=\u001b[0m\u001b[0;36m256\u001b[0m\u001b[0;34m,\u001b[0m \u001b[0mimage_height\u001b[0m\u001b[0;34m=\u001b[0m\u001b[0;36m256\u001b[0m\u001b[0;34m,\u001b[0m\u001b[0;34m\u001b[0m\u001b[0m\n\u001b[0;32m----> 7\u001b[0;31m                  frame_start=0, frame_end=1000)\n\u001b[0m\u001b[1;32m      8\u001b[0m     \u001b[0mcam\u001b[0m\u001b[0;34m.\u001b[0m\u001b[0msetIntROI\u001b[0m\u001b[0;34m(\u001b[0m\u001b[0mval_min\u001b[0m\u001b[0;34m=\u001b[0m\u001b[0;36m100\u001b[0m\u001b[0;34m)\u001b[0m\u001b[0;34m\u001b[0m\u001b[0m\n\u001b[1;32m      9\u001b[0m     \u001b[0mcam\u001b[0m\u001b[0;34m.\u001b[0m\u001b[0msaveImage\u001b[0m\u001b[0;34m(\u001b[0m\u001b[0mos\u001b[0m\u001b[0;34m.\u001b[0m\u001b[0mpath\u001b[0m\u001b[0;34m.\u001b[0m\u001b[0mjoin\u001b[0m\u001b[0;34m(\u001b[0m\u001b[0mresult_parent\u001b[0m\u001b[0;34m,\u001b[0m \u001b[0;34m'cam'\u001b[0m\u001b[0;34m)\u001b[0m\u001b[0;34m)\u001b[0m\u001b[0;34m\u001b[0m\u001b[0m\n",
      "\u001b[0;32m/home/tomii/.pyenv/versions/anaconda2-4.4.0/lib/python2.7/site-packages/opmap-0.0.1-py2.7.egg/opmap/RawCam.pyc\u001b[0m in \u001b[0;36m__init__\u001b[0;34m(self, path, cam_type, image_width, image_height, frame_start, frame_end)\u001b[0m\n\u001b[1;32m     30\u001b[0m \u001b[0;34m\u001b[0m\u001b[0m\n\u001b[1;32m     31\u001b[0m             \u001b[0mself\u001b[0m\u001b[0;34m.\u001b[0m\u001b[0mfiles\u001b[0m \u001b[0;34m=\u001b[0m \u001b[0msorted\u001b[0m\u001b[0;34m(\u001b[0m\u001b[0mglob\u001b[0m\u001b[0;34m(\u001b[0m\u001b[0mpath\u001b[0m\u001b[0;34m+\u001b[0m\u001b[0;34m\"/*.raw*\"\u001b[0m\u001b[0;34m)\u001b[0m\u001b[0;34m)\u001b[0m\u001b[0;34m\u001b[0m\u001b[0m\n\u001b[0;32m---> 32\u001b[0;31m             \u001b[0;32massert\u001b[0m \u001b[0mlen\u001b[0m\u001b[0;34m(\u001b[0m\u001b[0mself\u001b[0m\u001b[0;34m.\u001b[0m\u001b[0mfiles\u001b[0m\u001b[0;34m)\u001b[0m \u001b[0;34m>\u001b[0m \u001b[0;36m0\u001b[0m\u001b[0;34m\u001b[0m\u001b[0m\n\u001b[0m\u001b[1;32m     33\u001b[0m             \u001b[0mself\u001b[0m\u001b[0;34m.\u001b[0m\u001b[0mfiles\u001b[0m \u001b[0;34m=\u001b[0m \u001b[0mself\u001b[0m\u001b[0;34m.\u001b[0m\u001b[0mfiles\u001b[0m\u001b[0;34m[\u001b[0m\u001b[0mframe_start\u001b[0m\u001b[0;34m:\u001b[0m\u001b[0mframe_end\u001b[0m\u001b[0;34m]\u001b[0m\u001b[0;34m\u001b[0m\u001b[0m\n\u001b[1;32m     34\u001b[0m \u001b[0;34m\u001b[0m\u001b[0m\n",
      "\u001b[0;31mAssertionError\u001b[0m: "
     ]
    }
   ],
   "source": [
    "for directory in directories:\n",
    "    print(directory)\n",
    "    result_parent = '/mnt/recordings/AnalysisResult/Seno/opmap/HRS2018/20171013/2006-02-18-1/%s' % directory\n",
    "    cam = RawCam(path='/mnt/recordings/ExperimentData/2006-02-18-1/%s' % directory,\n",
    "                 cam_type='sa4',\n",
    "                 image_width=256, image_height=256,\n",
    "                 frame_start=0, frame_end=1000)\n",
    "    cam.setIntROI(val_min=100)\n",
    "    cam.saveImage(os.path.join(result_parent, 'cam'))\n",
    "    \n",
    "    vmem = VmemMap(cam)\n",
    "    vmem.smooth(size=20)\n",
    "    vmem.saveImage(os.path.join(result_parent, 'vmem'))\n",
    "    np.save(os.path.join(result_parent, 'vmem.npy'), vmem.data)\n",
    "    cmd = 'ffmpeg -r 30 -y -i \"{0}/%06d.png\" -c:v libx264 -pix_fmt yuv420p -qscale 0 \"{1}/movie.mp4\"'.format(os.path.join(result_parent, 'vmem'), result_parent)\n",
    "    subprocess.call(cmd, shell=True)"
   ]
  },
  {
   "cell_type": "markdown",
   "metadata": {},
   "source": [
    "# 旋回時のAPD計算"
   ]
  },
  {
   "cell_type": "code",
   "execution_count": 8,
   "metadata": {
    "collapsed": true
   },
   "outputs": [],
   "source": [
    "cam = RawCam(path='/mnt/recordings/ExperimentData/2006-02-18-1/C001S0011@',\n",
    "                 cam_type='sa4',\n",
    "                 image_width=256, image_height=256,\n",
    "                 frame_start=0, frame_end=-1)\n",
    "cam.setIntROI(val_min=100)\n",
    "    \n",
    "vmem = VmemMap(cam)\n",
    "vmem.smooth(size=20)"
   ]
  },
  {
   "cell_type": "code",
   "execution_count": null,
   "metadata": {},
   "outputs": [],
   "source": [
    "APD = APDMap(vmem)\n",
    "APD.saveImage('/mnt/recordings/AnalysisResults/Seno/opmap/HRS2018/20171013/2006-02-18-1/C001S0011@/APD')\n",
    "np.save('/mnt/recordings/AnalysisResult/Seno/opmap/HRS2018/201701013/2006-02-18-1/C001S0011@/APD.npy', APD.data)"
   ]
  },
  {
   "cell_type": "code",
   "execution_count": null,
   "metadata": {
    "collapsed": true
   },
   "outputs": [],
   "source": []
  }
 ],
 "metadata": {
  "kernelspec": {
   "display_name": "Python 2",
   "language": "python",
   "name": "python2"
  },
  "language_info": {
   "codemirror_mode": {
    "name": "ipython",
    "version": 2
   },
   "file_extension": ".py",
   "mimetype": "text/x-python",
   "name": "python",
   "nbconvert_exporter": "python",
   "pygments_lexer": "ipython2",
   "version": "2.7.13"
  }
 },
 "nbformat": 4,
 "nbformat_minor": 2
}
