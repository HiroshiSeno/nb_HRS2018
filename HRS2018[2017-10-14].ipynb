{
 "cells": [
  {
   "cell_type": "markdown",
   "metadata": {
    "collapsed": true
   },
   "source": [
    "# 解析方針\n",
    "\n",
    "- 局所冷却のみでなく，Nifekalantのデータや，controlのデータに対しても累積位相分散解析をしてみる\n",
    "- まずデータに関して下調べする必要あり"
   ]
  },
  {
   "cell_type": "code",
   "execution_count": 1,
   "metadata": {
    "collapsed": true
   },
   "outputs": [],
   "source": [
    "import numpy as np\n",
    "import matplotlib.pyplot as plt\n",
    "import os\n",
    "import subprocess\n",
    "import cv2\n",
    "import copy\n",
    "from scipy import ndimage\n",
    "import glob\n",
    "%matplotlib inline"
   ]
  },
  {
   "cell_type": "code",
   "execution_count": 2,
   "metadata": {
    "collapsed": true
   },
   "outputs": [],
   "source": [
    "from opmap.RawCam import RawCam\n",
    "from opmap.VmemMap import VmemMap\n",
    "from opmap.PhaseMap import PhaseMap\n",
    "from opmap.PhaseVarianceMap import PhaseVarianceMap\n",
    "from opmap.APDMap import APDMap"
   ]
  },
  {
   "cell_type": "markdown",
   "metadata": {},
   "source": [
    "# 局所冷却データ(2006-02-17)"
   ]
  },
  {
   "cell_type": "code",
   "execution_count": 3,
   "metadata": {},
   "outputs": [
    {
     "data": {
      "text/plain": [
       "'/mnt/recordings/ExperimentData/2006-02-17/C001S0027'"
      ]
     },
     "execution_count": 3,
     "metadata": {},
     "output_type": "execute_result"
    }
   ],
   "source": [
    "paths = glob.glob('/mnt/recordings/ExperimentData/2006-02-17/*')\n",
    "paths.pop(1)"
   ]
  },
  {
   "cell_type": "code",
   "execution_count": null,
   "metadata": {},
   "outputs": [
    {
     "name": "stdout",
     "output_type": "stream",
     "text": [
      "/mnt/recordings/ExperimentData/2006-02-17/C001S0024\n",
      "/mnt/recordings/ExperimentData/2006-02-17/C001S0007\n",
      "/mnt/recordings/ExperimentData/2006-02-17/C001S0015\n"
     ]
    }
   ],
   "source": [
    "threshold = 0.4\n",
    "\n",
    "for path in paths:\n",
    "    print(path)\n",
    "    \n",
    "    output_path = path.replace('ExperimentData', 'AnalysisResult/Seno/opmap/HRS2018/20171014')\n",
    "    if not os.path.exists(output_path):\n",
    "        os.makedirs(output_path)\n",
    "\n",
    "    cam = RawCam(path=path,\n",
    "                 cam_type='sa4',\n",
    "                 image_width=256, image_height=256,\n",
    "                 frame_start=0, frame_end=-1)\n",
    "    cam.setIntROI(val_min=100)\n",
    "    cam.saveImage(os.path.join(output_path, 'cam'), skip=10000)\n",
    "    \n",
    "    vmem = VmemMap(cam)\n",
    "    vmem.smooth(size=20)\n",
    "    vmem.saveImage(os.path.join(output_path, 'vmem'), skip=10)\n",
    "    \n",
    "    pmap = PhaseMap(vmem, shrink=2)\n",
    "    pmap.saveImage(os.path.join(output_path, 'pmap'), skip=10)\n",
    "\n",
    "    pvmap = PhaseVarianceMap(pmap, size=3)\n",
    "    pvmap.saveImage(os.path.join(output_path, 'pvmap'), skip=10)\n",
    "\n",
    "    \"\"\"\n",
    "    APD = APDMap(vmem)\n",
    "    APD.saveImage(os.path.join(output_path, 'APD'), skip=10)\n",
    "    \"\"\"\n",
    "    \n",
    "    APV_array = np.zeros((128, 128))\n",
    "    phase_variance_array = copy.deepcopy(pvmap.data)\n",
    "    ROI = copy.deepcopy(pvmap.roi)\n",
    "    core = (phase_variance_array > threshold) * 1\n",
    "    core_count = np.sum(core, axis=0)\n",
    "    \n",
    "    for i in range(128):\n",
    "        for j in range(128):\n",
    "            if ROI[i,j] != 0:\n",
    "                data = copy.deepcopy(phase_variance_array[:, i, j])\n",
    "                time = data.shape[0]\n",
    "                while np.max(data) > threshold:\n",
    "                    x_pos = np.argmax(data)\n",
    "                    x_max = x_pos + 1\n",
    "                    x_min = x_pos - 1\n",
    "                    while x_max < time and data[x_max - 1] > data[x_max]:\n",
    "                        x_max += 1\n",
    "                    while x_min > -1 and data[x_min] < data[x_min + 1]:\n",
    "                        x_min -= 1\n",
    "                    data[x_min+2:x_max] = 0\n",
    "                APV_array[i,j] = np.sum(data)/len(np.nonzero(data)[0])\n",
    "\n",
    "    plt.imshow(core_count, cmap='jet')\n",
    "    plt.colorbar()\n",
    "    plt.savefig(os.path.join(output_path, 'core.png'), dpi=300, transparent=True)\n",
    "    plt.close()\n",
    "    \n",
    "    plt.imshow(APV_array, cmap='jet')\n",
    "    plt.colorbar()\n",
    "    plt.savefig(os.path.join(output_path, 'APV.png'), dpi=300, transparent=True)\n",
    "    plt.close()"
   ]
  },
  {
   "cell_type": "code",
   "execution_count": null,
   "metadata": {
    "collapsed": true
   },
   "outputs": [],
   "source": []
  }
 ],
 "metadata": {
  "kernelspec": {
   "display_name": "Python 2",
   "language": "python",
   "name": "python2"
  },
  "language_info": {
   "codemirror_mode": {
    "name": "ipython",
    "version": 2
   },
   "file_extension": ".py",
   "mimetype": "text/x-python",
   "name": "python",
   "nbconvert_exporter": "python",
   "pygments_lexer": "ipython2",
   "version": "2.7.13"
  }
 },
 "nbformat": 4,
 "nbformat_minor": 2
}
