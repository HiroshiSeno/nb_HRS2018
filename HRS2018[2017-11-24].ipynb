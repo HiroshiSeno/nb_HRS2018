{
 "cells": [
  {
   "cell_type": "code",
   "execution_count": 57,
   "metadata": {
    "collapsed": true
   },
   "outputs": [],
   "source": [
    "import numpy as np\n",
    "import matplotlib.pyplot as plt\n",
    "import os\n",
    "import subprocess\n",
    "import cv2\n",
    "import copy\n",
    "from scipy import ndimage\n",
    "import glob\n",
    "%matplotlib inline"
   ]
  },
  {
   "cell_type": "code",
   "execution_count": 58,
   "metadata": {
    "collapsed": true
   },
   "outputs": [],
   "source": [
    "from opmap.RawCam import RawCam\n",
    "from opmap.VmemMap import VmemMap\n",
    "from opmap.PhaseMap import PhaseMap\n",
    "from opmap.PhaseVarianceMap import PhaseVarianceMap\n",
    "from opmap.APDMap import APDMap"
   ]
  },
  {
   "cell_type": "markdown",
   "metadata": {},
   "source": [
    "# 20171108-31の解析"
   ]
  },
  {
   "cell_type": "code",
   "execution_count": 98,
   "metadata": {
    "collapsed": true
   },
   "outputs": [],
   "source": [
    "vmem = RawCam(path='/mnt/recordings/SimulationResults/2D/20171108-31/', cam_type='numpy',\n",
    "              image_height=200, image_width=200, frame_start=0, frame_end=300)"
   ]
  },
  {
   "cell_type": "code",
   "execution_count": 99,
   "metadata": {
    "collapsed": true
   },
   "outputs": [],
   "source": [
    "pmap = PhaseMap(vmem, shrink=1)\n",
    "pvmap = PhaseVarianceMap(pmap, size=3)"
   ]
  },
  {
   "cell_type": "code",
   "execution_count": 101,
   "metadata": {},
   "outputs": [
    {
     "data": {
      "text/plain": [
       "0.73979515"
      ]
     },
     "execution_count": 101,
     "metadata": {},
     "output_type": "execute_result"
    }
   ],
   "source": [
    "np.max(pvmap.data[50, :, :])"
   ]
  },
  {
   "cell_type": "code",
   "execution_count": 111,
   "metadata": {},
   "outputs": [
    {
     "data": {
      "text/plain": [
       "<matplotlib.colorbar.Colorbar at 0x7f42b7b18690>"
      ]
     },
     "execution_count": 111,
     "metadata": {},
     "output_type": "execute_result"
    },
    {
     "data": {
      "image/png": "[encoded data removed]",
      "text/plain": [
       "<matplotlib.figure.Figure at 0x7f42b7bd0210>"
      ]
     },
     "metadata": {},
     "output_type": "display_data"
    }
   ],
   "source": [
    "plt.imshow(pvmap.data[130, :, :], vmin=0, vmax=1)\n",
    "plt.colorbar()"
   ]
  },
  {
   "cell_type": "markdown",
   "metadata": {},
   "source": [
    "##### out_dir = '/mnt/recordings/AnalysisResult/Seno/simulation/Mahajan/20171124/20171108-31/vmem'\n",
    "\n",
    "if not os.path.exists(out_dir):\n",
    "    os.makedirs(out_dir)\n",
    "\n",
    "for i in range(300):\n",
    "    num = \"{0:04d}\".format(i)\n",
    "    plt.imshow(vmem.data[i, :, :],cmap='gray')\n",
    "    plt.xticks([])\n",
    "    plt.yticks([])\n",
    "    plt.text(5,20,\"%s (ms)\" %num, fontsize=17, color='w')\n",
    "    plt.tight_layout()\n",
    "    plt.savefig(os.path.join(out_dir, '%s.png'%num), dpi=300)\n",
    "    plt.close()"
   ]
  },
  {
   "cell_type": "code",
   "execution_count": 112,
   "metadata": {},
   "outputs": [],
   "source": [
    "out_dir = '/mnt/recordings/AnalysisResult/Seno/simulation/Mahajan/20171124/20171108-31/pvmap'\n",
    "\n",
    "if not os.path.exists(out_dir):\n",
    "    os.makedirs(out_dir)\n",
    "\n",
    "for i in range(300):\n",
    "    num = \"{0:04d}\".format(i)\n",
    "    plt.imshow(pvmap.data[i, :, :],cmap='gray')\n",
    "    plt.xticks([])\n",
    "    plt.yticks([])\n",
    "    plt.text(5,20,\"%s (ms)\" %num, fontsize=17, color='w')\n",
    "    plt.tight_layout()\n",
    "    plt.savefig(os.path.join(out_dir, '%s.png'%num), dpi=300)\n",
    "    plt.close()"
   ]
  },
  {
   "cell_type": "code",
   "execution_count": 113,
   "metadata": {
    "collapsed": true
   },
   "outputs": [],
   "source": [
    "out_dir = '/mnt/recordings/AnalysisResult/Seno/simulation/Mahajan/20171124/20171108-31/core'\n",
    "\n",
    "if not os.path.exists(out_dir):\n",
    "    os.makedirs(out_dir)\n",
    "\n",
    "for i in range(300):\n",
    "    num = \"{0:04d}\".format(i)\n",
    "    plt.imshow((pvmap.data[i, :, :]>0.4),cmap='gray')\n",
    "    plt.xticks([])\n",
    "    plt.yticks([])\n",
    "    plt.text(5,20,\"%s (ms)\" %num, fontsize=17, color='w')\n",
    "    plt.tight_layout()\n",
    "    plt.savefig(os.path.join(out_dir, '%s.png'%num), dpi=300)\n",
    "    plt.close()"
   ]
  },
  {
   "cell_type": "code",
   "execution_count": 119,
   "metadata": {},
   "outputs": [],
   "source": [
    "core = (pvmap.data[10:180, :, :]>0.4)*1"
   ]
  },
  {
   "cell_type": "code",
   "execution_count": 123,
   "metadata": {},
   "outputs": [],
   "source": [
    "trajectory = (np.sum(core, axis=0) > 0)"
   ]
  },
  {
   "cell_type": "code",
   "execution_count": 128,
   "metadata": {},
   "outputs": [],
   "source": [
    "plt.imshow(trajectory, cmap='gray')\n",
    "plt.xticks([])\n",
    "plt.yticks([])\n",
    "plt.tight_layout()\n",
    "plt.savefig('/mnt/recordings/AnalysisResult/Seno/simulation/Mahajan/20171124/20171108-31/trajectory.png', dpi=300)\n",
    "plt.close()"
   ]
  },
  {
   "cell_type": "code",
   "execution_count": 148,
   "metadata": {},
   "outputs": [],
   "source": [
    "temp = np.load('/mnt/recordings/SimulationResults/2D/20171108-31/cell_0170/temp.npy')\n",
    "plt.imshow(temp.reshape((200,200)), cmap='gray_r')\n",
    "\n",
    "# cb = plt.colorbar()\n",
    "# cb.ax.tick_params(labelsize=16)\n",
    "# cb.set_label(label='Temperature (K)', size=24)\n",
    "plt.xticks([])\n",
    "plt.yticks([])\n",
    "plt.tight_layout()\n",
    "plt.savefig('/mnt/recordings/AnalysisResult/Seno/simulation/Mahajan/20171124/20171108-31/temp.png', dpi=300)\n",
    "plt.close()"
   ]
  },
  {
   "cell_type": "code",
   "execution_count": 132,
   "metadata": {
    "collapsed": true
   },
   "outputs": [],
   "source": [
    "plt.colorbar?"
   ]
  },
  {
   "cell_type": "code",
   "execution_count": null,
   "metadata": {
    "collapsed": true
   },
   "outputs": [],
   "source": []
  }
 ],
 "metadata": {
  "kernelspec": {
   "display_name": "Python 2",
   "language": "python",
   "name": "python2"
  },
  "language_info": {
   "codemirror_mode": {
    "name": "ipython",
    "version": 2
   },
   "file_extension": ".py",
   "mimetype": "text/x-python",
   "name": "python",
   "nbconvert_exporter": "python",
   "pygments_lexer": "ipython2",
   "version": "2.7.13"
  }
 },
 "nbformat": 4,
 "nbformat_minor": 2
}
